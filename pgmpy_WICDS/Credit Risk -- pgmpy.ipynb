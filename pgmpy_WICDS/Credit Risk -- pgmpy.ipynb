{
 "cells": [
  {
   "cell_type": "code",
   "execution_count": 30,
   "metadata": {},
   "outputs": [],
   "source": [
    "import pandas as pd\n",
    "import numpy as np\n",
    "\n",
    "from pgmpy.estimators import HillClimbSearch, MaximumLikelihoodEstimator, BicScore\n",
    "from pgmpy.models import BayesianModel\n",
    "from pgmpy.inference import VariableElimination\n",
    "\n",
    "from feature_engine import discretisers as dsc\n",
    "\n",
    "import networkx as nx\n",
    "import pylab as plt\n",
    "import time\n",
    "\n",
    "import warnings\n",
    "warnings.filterwarnings('ignore')\n",
    "\n",
    "from IPython.core.interactiveshell import InteractiveShell\n",
    "InteractiveShell.ast_node_interactivity = \"all\""
   ]
  },
  {
   "cell_type": "code",
   "execution_count": 2,
   "metadata": {},
   "outputs": [],
   "source": [
    "df_credit = pd.read_csv(\"german_credit.csv\")"
   ]
  },
  {
   "cell_type": "code",
   "execution_count": 3,
   "metadata": {},
   "outputs": [
    {
     "data": {
      "text/plain": [
       "Credit History       0\n",
       "Age                  0\n",
       "Gender               0\n",
       "Job                  0\n",
       "Housing              0\n",
       "Saving accounts    183\n",
       "Credit amount        0\n",
       "Duration             0\n",
       "Purpose              0\n",
       "Risk                 0\n",
       "dtype: int64"
      ]
     },
     "execution_count": 3,
     "metadata": {},
     "output_type": "execute_result"
    }
   ],
   "source": [
    "### Finding Missing values, checking if they are legitimate and applying apt transformation\n",
    "df_credit.isnull().sum()"
   ]
  },
  {
   "cell_type": "code",
   "execution_count": 4,
   "metadata": {},
   "outputs": [
    {
     "data": {
      "text/plain": [
       "little        603\n",
       "moderate      103\n",
       "quite rich     63\n",
       "rich           48\n",
       "Name: Saving accounts, dtype: int64"
      ]
     },
     "execution_count": 4,
     "metadata": {},
     "output_type": "execute_result"
    },
    {
     "data": {
      "text/plain": [
       "array([nan, 'little', 'quite rich', 'rich', 'moderate'], dtype=object)"
      ]
     },
     "execution_count": 4,
     "metadata": {},
     "output_type": "execute_result"
    },
    {
     "data": {
      "text/plain": [
       "little        603\n",
       "no account    183\n",
       "moderate      103\n",
       "quite rich     63\n",
       "rich           48\n",
       "Name: Saving accounts, dtype: int64"
      ]
     },
     "execution_count": 4,
     "metadata": {},
     "output_type": "execute_result"
    },
    {
     "data": {
      "text/plain": [
       "array(['no account', 'little', 'quite rich', 'rich', 'moderate'],\n",
       "      dtype=object)"
      ]
     },
     "execution_count": 4,
     "metadata": {},
     "output_type": "execute_result"
    },
    {
     "data": {
      "text/plain": [
       "Credit History     0\n",
       "Age                0\n",
       "Gender             0\n",
       "Job                0\n",
       "Housing            0\n",
       "Saving accounts    0\n",
       "Credit amount      0\n",
       "Duration           0\n",
       "Purpose            0\n",
       "Risk               0\n",
       "dtype: int64"
      ]
     },
     "execution_count": 4,
     "metadata": {},
     "output_type": "execute_result"
    }
   ],
   "source": [
    "### NaN is a valid field here implying no saving account\n",
    "\n",
    "df_credit['Saving accounts'].value_counts()\n",
    "df_credit['Saving accounts'].unique()\n",
    "\n",
    "### So, replacing NaN with 'no account'\n",
    "df_credit.loc[df_credit['Saving accounts'].isnull(), 'Saving accounts'] = 'no account'\n",
    "\n",
    "### Replaced in df\n",
    "df_credit['Saving accounts'].value_counts()\n",
    "df_credit['Saving accounts'].unique()\n",
    "\n",
    "### No NaNs anymore\n",
    "df_credit.isnull().sum()"
   ]
  },
  {
   "cell_type": "markdown",
   "metadata": {},
   "source": [
    "### Understanding the ordinality of 'Credit History' and 'Job'"
   ]
  },
  {
   "cell_type": "code",
   "execution_count": 5,
   "metadata": {},
   "outputs": [
    {
     "data": {
      "text/plain": [
       "2    530\n",
       "4    293\n",
       "3     88\n",
       "1     49\n",
       "0     40\n",
       "Name: Credit History, dtype: int64"
      ]
     },
     "execution_count": 5,
     "metadata": {},
     "output_type": "execute_result"
    }
   ],
   "source": [
    "df_credit['Credit History'].value_counts() ### 0 to 4, credit history improves"
   ]
  },
  {
   "cell_type": "code",
   "execution_count": 6,
   "metadata": {},
   "outputs": [
    {
     "data": {
      "text/plain": [
       "2    630\n",
       "1    200\n",
       "3    148\n",
       "0     22\n",
       "Name: Job, dtype: int64"
      ]
     },
     "execution_count": 6,
     "metadata": {},
     "output_type": "execute_result"
    }
   ],
   "source": [
    "df_credit['Job'].value_counts() ### job improves from 0 to 3"
   ]
  },
  {
   "cell_type": "code",
   "execution_count": 7,
   "metadata": {},
   "outputs": [
    {
     "data": {
      "text/html": [
       "<div>\n",
       "<style scoped>\n",
       "    .dataframe tbody tr th:only-of-type {\n",
       "        vertical-align: middle;\n",
       "    }\n",
       "\n",
       "    .dataframe tbody tr th {\n",
       "        vertical-align: top;\n",
       "    }\n",
       "\n",
       "    .dataframe thead th {\n",
       "        text-align: right;\n",
       "    }\n",
       "</style>\n",
       "<table border=\"1\" class=\"dataframe\">\n",
       "  <thead>\n",
       "    <tr style=\"text-align: right;\">\n",
       "      <th></th>\n",
       "      <th>Credit History</th>\n",
       "      <th>Age</th>\n",
       "      <th>Gender</th>\n",
       "      <th>Job</th>\n",
       "      <th>Housing</th>\n",
       "      <th>Saving accounts</th>\n",
       "      <th>Credit amount</th>\n",
       "      <th>Duration</th>\n",
       "      <th>Purpose</th>\n",
       "      <th>Risk</th>\n",
       "    </tr>\n",
       "  </thead>\n",
       "  <tbody>\n",
       "    <tr>\n",
       "      <th>0</th>\n",
       "      <td>4</td>\n",
       "      <td>67</td>\n",
       "      <td>male</td>\n",
       "      <td>2</td>\n",
       "      <td>own</td>\n",
       "      <td>no account</td>\n",
       "      <td>1169</td>\n",
       "      <td>6</td>\n",
       "      <td>radio/TV</td>\n",
       "      <td>good</td>\n",
       "    </tr>\n",
       "    <tr>\n",
       "      <th>1</th>\n",
       "      <td>2</td>\n",
       "      <td>22</td>\n",
       "      <td>female</td>\n",
       "      <td>2</td>\n",
       "      <td>own</td>\n",
       "      <td>little</td>\n",
       "      <td>5951</td>\n",
       "      <td>48</td>\n",
       "      <td>radio/TV</td>\n",
       "      <td>bad</td>\n",
       "    </tr>\n",
       "    <tr>\n",
       "      <th>2</th>\n",
       "      <td>4</td>\n",
       "      <td>49</td>\n",
       "      <td>male</td>\n",
       "      <td>1</td>\n",
       "      <td>own</td>\n",
       "      <td>little</td>\n",
       "      <td>2096</td>\n",
       "      <td>12</td>\n",
       "      <td>education</td>\n",
       "      <td>good</td>\n",
       "    </tr>\n",
       "    <tr>\n",
       "      <th>3</th>\n",
       "      <td>2</td>\n",
       "      <td>45</td>\n",
       "      <td>male</td>\n",
       "      <td>2</td>\n",
       "      <td>free</td>\n",
       "      <td>little</td>\n",
       "      <td>7882</td>\n",
       "      <td>42</td>\n",
       "      <td>furniture/equipment</td>\n",
       "      <td>good</td>\n",
       "    </tr>\n",
       "    <tr>\n",
       "      <th>4</th>\n",
       "      <td>3</td>\n",
       "      <td>53</td>\n",
       "      <td>male</td>\n",
       "      <td>2</td>\n",
       "      <td>free</td>\n",
       "      <td>little</td>\n",
       "      <td>4870</td>\n",
       "      <td>24</td>\n",
       "      <td>car</td>\n",
       "      <td>bad</td>\n",
       "    </tr>\n",
       "  </tbody>\n",
       "</table>\n",
       "</div>"
      ],
      "text/plain": [
       "   Credit History  Age  Gender  Job Housing Saving accounts  Credit amount  \\\n",
       "0               4   67    male    2     own      no account           1169   \n",
       "1               2   22  female    2     own          little           5951   \n",
       "2               4   49    male    1     own          little           2096   \n",
       "3               2   45    male    2    free          little           7882   \n",
       "4               3   53    male    2    free          little           4870   \n",
       "\n",
       "   Duration              Purpose  Risk  \n",
       "0         6             radio/TV  good  \n",
       "1        48             radio/TV   bad  \n",
       "2        12            education  good  \n",
       "3        42  furniture/equipment  good  \n",
       "4        24                  car   bad  "
      ]
     },
     "execution_count": 7,
     "metadata": {},
     "output_type": "execute_result"
    }
   ],
   "source": [
    "df_credit.head()"
   ]
  },
  {
   "cell_type": "code",
   "execution_count": 8,
   "metadata": {},
   "outputs": [],
   "source": [
    "target = 'Risk'"
   ]
  },
  {
   "cell_type": "markdown",
   "metadata": {},
   "source": [
    "### Lets make a list of numerical features which needs to be binned"
   ]
  },
  {
   "cell_type": "code",
   "execution_count": 9,
   "metadata": {},
   "outputs": [
    {
     "name": "stdout",
     "output_type": "stream",
     "text": [
      "Credit History :  5\n",
      "Age :  53\n",
      "Gender :  2\n",
      "Job :  4\n",
      "Housing :  3\n",
      "Saving accounts :  5\n",
      "Credit amount :  921\n",
      "Duration :  33\n",
      "Purpose :  8\n",
      "Risk :  2\n"
     ]
    }
   ],
   "source": [
    "### Lets say if a feature has more than 32 unique values, we will bin it\n",
    "col_list = []\n",
    "for col in df_credit.columns:\n",
    "    print(col, \": \", len(df_credit[col].unique()))\n",
    "    if(len(df_credit[col].unique()) > 32):\n",
    "        col_list.append(col)"
   ]
  },
  {
   "cell_type": "markdown",
   "metadata": {},
   "source": [
    "### From above, we can see Age, Credit amount and Duration satisfy the criteria"
   ]
  },
  {
   "cell_type": "code",
   "execution_count": 10,
   "metadata": {},
   "outputs": [],
   "source": [
    "num_bins = 3\n",
    "disc = dsc.EqualFrequencyDiscretiser(q=num_bins, variables=col_list)\n",
    "df_binned = disc.fit(df_credit[col_list])\n",
    "equalfrequency_discretizer_dict = disc.binner_dict_\n",
    "bin_df_equalfrequency = pd.DataFrame.from_dict(equalfrequency_discretizer_dict, orient = 'index')  "
   ]
  },
  {
   "cell_type": "code",
   "execution_count": 11,
   "metadata": {},
   "outputs": [
    {
     "data": {
      "text/html": [
       "<div>\n",
       "<style scoped>\n",
       "    .dataframe tbody tr th:only-of-type {\n",
       "        vertical-align: middle;\n",
       "    }\n",
       "\n",
       "    .dataframe tbody tr th {\n",
       "        vertical-align: top;\n",
       "    }\n",
       "\n",
       "    .dataframe thead th {\n",
       "        text-align: right;\n",
       "    }\n",
       "</style>\n",
       "<table border=\"1\" class=\"dataframe\">\n",
       "  <thead>\n",
       "    <tr style=\"text-align: right;\">\n",
       "      <th></th>\n",
       "      <th>0</th>\n",
       "      <th>1</th>\n",
       "      <th>2</th>\n",
       "      <th>3</th>\n",
       "    </tr>\n",
       "  </thead>\n",
       "  <tbody>\n",
       "    <tr>\n",
       "      <th>Age</th>\n",
       "      <td>-inf</td>\n",
       "      <td>28.0</td>\n",
       "      <td>38.0</td>\n",
       "      <td>inf</td>\n",
       "    </tr>\n",
       "    <tr>\n",
       "      <th>Credit amount</th>\n",
       "      <td>-inf</td>\n",
       "      <td>1554.0</td>\n",
       "      <td>3368.0</td>\n",
       "      <td>inf</td>\n",
       "    </tr>\n",
       "    <tr>\n",
       "      <th>Duration</th>\n",
       "      <td>-inf</td>\n",
       "      <td>12.0</td>\n",
       "      <td>24.0</td>\n",
       "      <td>inf</td>\n",
       "    </tr>\n",
       "  </tbody>\n",
       "</table>\n",
       "</div>"
      ],
      "text/plain": [
       "                 0       1       2    3\n",
       "Age           -inf    28.0    38.0  inf\n",
       "Credit amount -inf  1554.0  3368.0  inf\n",
       "Duration      -inf    12.0    24.0  inf"
      ]
     },
     "execution_count": 11,
     "metadata": {},
     "output_type": "execute_result"
    }
   ],
   "source": [
    "bin_df_equalfrequency"
   ]
  },
  {
   "cell_type": "markdown",
   "metadata": {},
   "source": [
    "### Lets make the final dataframe a little cleaner to understand the range of values it can take based on its min and max value"
   ]
  },
  {
   "cell_type": "code",
   "execution_count": 12,
   "metadata": {},
   "outputs": [
    {
     "data": {
      "text/plain": [
       "(19, 75)"
      ]
     },
     "execution_count": 12,
     "metadata": {},
     "output_type": "execute_result"
    }
   ],
   "source": [
    "### Age has min and max as 19 and 75 respectively\n",
    "min(df_credit['Age'].unique()), max(df_credit['Age'].unique())\n",
    "bin_age = ['19 to 28', '28 to 38', '38 to 75']"
   ]
  },
  {
   "cell_type": "code",
   "execution_count": 13,
   "metadata": {},
   "outputs": [
    {
     "data": {
      "text/plain": [
       "(250, 18424)"
      ]
     },
     "execution_count": 13,
     "metadata": {},
     "output_type": "execute_result"
    }
   ],
   "source": [
    "### Credit amount has min and max as 250 and 18424 respectively\n",
    "min(df_credit['Credit amount'].unique()), max(df_credit['Credit amount'].unique())\n",
    "bin_credit_amount = ['250 to 1554', '1554 to 3368', '3368 to 18424']"
   ]
  },
  {
   "cell_type": "code",
   "execution_count": 14,
   "metadata": {},
   "outputs": [
    {
     "data": {
      "text/plain": [
       "(4, 72)"
      ]
     },
     "execution_count": 14,
     "metadata": {},
     "output_type": "execute_result"
    }
   ],
   "source": [
    "### Duration has min and max as 4 and 72 respectively\n",
    "min(df_credit.Duration.unique()), max(df_credit.Duration.unique())\n",
    "bin_duration = ['4 to 12', '12 to 24', '24 to 72']"
   ]
  },
  {
   "cell_type": "code",
   "execution_count": 15,
   "metadata": {},
   "outputs": [],
   "source": [
    "df_credit['Age'] = pd.cut(df_credit['Age'], 3, labels= bin_age)\n",
    "df_credit['Credit amount'] = pd.cut(df_credit['Credit amount'], 3, labels= bin_credit_amount)\n",
    "df_credit['Duration'] = pd.cut(df_credit['Duration'], 3, labels= bin_duration)"
   ]
  },
  {
   "cell_type": "code",
   "execution_count": 16,
   "metadata": {},
   "outputs": [
    {
     "data": {
      "text/html": [
       "<div>\n",
       "<style scoped>\n",
       "    .dataframe tbody tr th:only-of-type {\n",
       "        vertical-align: middle;\n",
       "    }\n",
       "\n",
       "    .dataframe tbody tr th {\n",
       "        vertical-align: top;\n",
       "    }\n",
       "\n",
       "    .dataframe thead th {\n",
       "        text-align: right;\n",
       "    }\n",
       "</style>\n",
       "<table border=\"1\" class=\"dataframe\">\n",
       "  <thead>\n",
       "    <tr style=\"text-align: right;\">\n",
       "      <th></th>\n",
       "      <th>Credit History</th>\n",
       "      <th>Age</th>\n",
       "      <th>Gender</th>\n",
       "      <th>Job</th>\n",
       "      <th>Housing</th>\n",
       "      <th>Saving accounts</th>\n",
       "      <th>Credit amount</th>\n",
       "      <th>Duration</th>\n",
       "      <th>Purpose</th>\n",
       "      <th>Risk</th>\n",
       "    </tr>\n",
       "  </thead>\n",
       "  <tbody>\n",
       "    <tr>\n",
       "      <th>0</th>\n",
       "      <td>4</td>\n",
       "      <td>38 to 75</td>\n",
       "      <td>male</td>\n",
       "      <td>2</td>\n",
       "      <td>own</td>\n",
       "      <td>no account</td>\n",
       "      <td>250 to 1554</td>\n",
       "      <td>4 to 12</td>\n",
       "      <td>radio/TV</td>\n",
       "      <td>good</td>\n",
       "    </tr>\n",
       "    <tr>\n",
       "      <th>1</th>\n",
       "      <td>2</td>\n",
       "      <td>19 to 28</td>\n",
       "      <td>female</td>\n",
       "      <td>2</td>\n",
       "      <td>own</td>\n",
       "      <td>little</td>\n",
       "      <td>250 to 1554</td>\n",
       "      <td>12 to 24</td>\n",
       "      <td>radio/TV</td>\n",
       "      <td>bad</td>\n",
       "    </tr>\n",
       "    <tr>\n",
       "      <th>2</th>\n",
       "      <td>4</td>\n",
       "      <td>28 to 38</td>\n",
       "      <td>male</td>\n",
       "      <td>1</td>\n",
       "      <td>own</td>\n",
       "      <td>little</td>\n",
       "      <td>250 to 1554</td>\n",
       "      <td>4 to 12</td>\n",
       "      <td>education</td>\n",
       "      <td>good</td>\n",
       "    </tr>\n",
       "    <tr>\n",
       "      <th>3</th>\n",
       "      <td>2</td>\n",
       "      <td>28 to 38</td>\n",
       "      <td>male</td>\n",
       "      <td>2</td>\n",
       "      <td>free</td>\n",
       "      <td>little</td>\n",
       "      <td>1554 to 3368</td>\n",
       "      <td>12 to 24</td>\n",
       "      <td>furniture/equipment</td>\n",
       "      <td>good</td>\n",
       "    </tr>\n",
       "    <tr>\n",
       "      <th>4</th>\n",
       "      <td>3</td>\n",
       "      <td>28 to 38</td>\n",
       "      <td>male</td>\n",
       "      <td>2</td>\n",
       "      <td>free</td>\n",
       "      <td>little</td>\n",
       "      <td>250 to 1554</td>\n",
       "      <td>4 to 12</td>\n",
       "      <td>car</td>\n",
       "      <td>bad</td>\n",
       "    </tr>\n",
       "    <tr>\n",
       "      <th>...</th>\n",
       "      <td>...</td>\n",
       "      <td>...</td>\n",
       "      <td>...</td>\n",
       "      <td>...</td>\n",
       "      <td>...</td>\n",
       "      <td>...</td>\n",
       "      <td>...</td>\n",
       "      <td>...</td>\n",
       "      <td>...</td>\n",
       "      <td>...</td>\n",
       "    </tr>\n",
       "    <tr>\n",
       "      <th>995</th>\n",
       "      <td>2</td>\n",
       "      <td>19 to 28</td>\n",
       "      <td>female</td>\n",
       "      <td>1</td>\n",
       "      <td>own</td>\n",
       "      <td>little</td>\n",
       "      <td>250 to 1554</td>\n",
       "      <td>4 to 12</td>\n",
       "      <td>furniture/equipment</td>\n",
       "      <td>good</td>\n",
       "    </tr>\n",
       "    <tr>\n",
       "      <th>996</th>\n",
       "      <td>2</td>\n",
       "      <td>28 to 38</td>\n",
       "      <td>male</td>\n",
       "      <td>3</td>\n",
       "      <td>own</td>\n",
       "      <td>little</td>\n",
       "      <td>250 to 1554</td>\n",
       "      <td>12 to 24</td>\n",
       "      <td>car</td>\n",
       "      <td>good</td>\n",
       "    </tr>\n",
       "    <tr>\n",
       "      <th>997</th>\n",
       "      <td>2</td>\n",
       "      <td>28 to 38</td>\n",
       "      <td>male</td>\n",
       "      <td>2</td>\n",
       "      <td>own</td>\n",
       "      <td>little</td>\n",
       "      <td>250 to 1554</td>\n",
       "      <td>4 to 12</td>\n",
       "      <td>radio/TV</td>\n",
       "      <td>good</td>\n",
       "    </tr>\n",
       "    <tr>\n",
       "      <th>998</th>\n",
       "      <td>2</td>\n",
       "      <td>19 to 28</td>\n",
       "      <td>male</td>\n",
       "      <td>2</td>\n",
       "      <td>free</td>\n",
       "      <td>little</td>\n",
       "      <td>250 to 1554</td>\n",
       "      <td>12 to 24</td>\n",
       "      <td>radio/TV</td>\n",
       "      <td>bad</td>\n",
       "    </tr>\n",
       "    <tr>\n",
       "      <th>999</th>\n",
       "      <td>4</td>\n",
       "      <td>19 to 28</td>\n",
       "      <td>male</td>\n",
       "      <td>2</td>\n",
       "      <td>own</td>\n",
       "      <td>moderate</td>\n",
       "      <td>250 to 1554</td>\n",
       "      <td>12 to 24</td>\n",
       "      <td>car</td>\n",
       "      <td>good</td>\n",
       "    </tr>\n",
       "  </tbody>\n",
       "</table>\n",
       "<p>1000 rows × 10 columns</p>\n",
       "</div>"
      ],
      "text/plain": [
       "     Credit History       Age  Gender  Job Housing Saving accounts  \\\n",
       "0                 4  38 to 75    male    2     own      no account   \n",
       "1                 2  19 to 28  female    2     own          little   \n",
       "2                 4  28 to 38    male    1     own          little   \n",
       "3                 2  28 to 38    male    2    free          little   \n",
       "4                 3  28 to 38    male    2    free          little   \n",
       "..              ...       ...     ...  ...     ...             ...   \n",
       "995               2  19 to 28  female    1     own          little   \n",
       "996               2  28 to 38    male    3     own          little   \n",
       "997               2  28 to 38    male    2     own          little   \n",
       "998               2  19 to 28    male    2    free          little   \n",
       "999               4  19 to 28    male    2     own        moderate   \n",
       "\n",
       "    Credit amount  Duration              Purpose  Risk  \n",
       "0     250 to 1554   4 to 12             radio/TV  good  \n",
       "1     250 to 1554  12 to 24             radio/TV   bad  \n",
       "2     250 to 1554   4 to 12            education  good  \n",
       "3    1554 to 3368  12 to 24  furniture/equipment  good  \n",
       "4     250 to 1554   4 to 12                  car   bad  \n",
       "..            ...       ...                  ...   ...  \n",
       "995   250 to 1554   4 to 12  furniture/equipment  good  \n",
       "996   250 to 1554  12 to 24                  car  good  \n",
       "997   250 to 1554   4 to 12             radio/TV  good  \n",
       "998   250 to 1554  12 to 24             radio/TV   bad  \n",
       "999   250 to 1554  12 to 24                  car  good  \n",
       "\n",
       "[1000 rows x 10 columns]"
      ]
     },
     "execution_count": 16,
     "metadata": {},
     "output_type": "execute_result"
    }
   ],
   "source": [
    "df_credit"
   ]
  },
  {
   "cell_type": "code",
   "execution_count": 17,
   "metadata": {},
   "outputs": [
    {
     "data": {
      "text/plain": [
       "(1000, 10)"
      ]
     },
     "execution_count": 17,
     "metadata": {},
     "output_type": "execute_result"
    },
    {
     "data": {
      "text/plain": [
       "(900, 10)"
      ]
     },
     "execution_count": 17,
     "metadata": {},
     "output_type": "execute_result"
    },
    {
     "data": {
      "text/plain": [
       "(100, 10)"
      ]
     },
     "execution_count": 17,
     "metadata": {},
     "output_type": "execute_result"
    }
   ],
   "source": [
    "df_train = df_credit[:900]\n",
    "df_test = df_credit[900:]\n",
    "df_credit.shape\n",
    "df_train.shape\n",
    "df_test.shape"
   ]
  },
  {
   "cell_type": "markdown",
   "metadata": {},
   "source": [
    "### Model Building and Parameter Learning"
   ]
  },
  {
   "cell_type": "code",
   "execution_count": 18,
   "metadata": {},
   "outputs": [
    {
     "data": {
      "text/plain": [
       "<Figure size 1080x720 with 0 Axes>"
      ]
     },
     "execution_count": 18,
     "metadata": {},
     "output_type": "execute_result"
    },
    {
     "data": {
      "image/png": "[encoded data removed]",
      "text/plain": [
       "<Figure size 1080x720 with 1 Axes>"
      ]
     },
     "metadata": {},
     "output_type": "display_data"
    }
   ],
   "source": [
    "hc = HillClimbSearch(df_train, scoring_method=BicScore(df_train))\n",
    "best_model = hc.estimate()\n",
    "edges = list(best_model.edges())\n",
    "model = BayesianModel(edges)\n",
    "\n",
    "%matplotlib inline\n",
    "plt.figure(figsize=(15,10))\n",
    "\n",
    "# nx.draw(model, with_labels=True)\n",
    "nx.draw(model, pos= nx.spring_layout(model), with_labels=True, node_size=2000, node_color=\"orange\", width = 4, font_size = 20)\n",
    "plt.show()"
   ]
  },
  {
   "cell_type": "code",
   "execution_count": 19,
   "metadata": {},
   "outputs": [],
   "source": [
    "# Fitting the data to the model using Maximum Likelihood Estimator\n",
    "model.fit(df_train, estimator=MaximumLikelihoodEstimator)\n",
    "\n",
    "# Doing exact inference using Variable Elimination\n",
    "infer = VariableElimination(model)"
   ]
  },
  {
   "cell_type": "markdown",
   "metadata": {},
   "source": [
    "### As evident from the graph above, we can also find the parents and children"
   ]
  },
  {
   "cell_type": "code",
   "execution_count": 20,
   "metadata": {},
   "outputs": [
    {
     "data": {
      "text/plain": [
       "['Duration', 'Saving accounts']"
      ]
     },
     "execution_count": 20,
     "metadata": {},
     "output_type": "execute_result"
    }
   ],
   "source": [
    "model.get_children(target)"
   ]
  },
  {
   "cell_type": "code",
   "execution_count": 21,
   "metadata": {},
   "outputs": [
    {
     "data": {
      "text/plain": [
       "['Credit History']"
      ]
     },
     "execution_count": 21,
     "metadata": {},
     "output_type": "execute_result"
    }
   ],
   "source": [
    "model.get_parents(target)"
   ]
  },
  {
   "cell_type": "markdown",
   "metadata": {},
   "source": [
    "### Joint distribution"
   ]
  },
  {
   "cell_type": "code",
   "execution_count": 22,
   "metadata": {},
   "outputs": [
    {
     "name": "stderr",
     "output_type": "stream",
     "text": [
      "Finding Elimination Order: : 100%|█████████████████████████████████████████████████████| 7/7 [00:00<00:00, 2345.25it/s]\n",
      "Eliminating: Housing: 100%|█████████████████████████████████████████████████████████████| 7/7 [00:00<00:00, 388.89it/s]"
     ]
    },
    {
     "name": "stdout",
     "output_type": "stream",
     "text": [
      "+------------+----------------+--------------------+\n",
      "| Risk       | Gender         |   phi(Risk,Gender) |\n",
      "+============+================+====================+\n",
      "| Risk(bad)  | Gender(female) |             0.0931 |\n",
      "+------------+----------------+--------------------+\n",
      "| Risk(bad)  | Gender(male)   |             0.2047 |\n",
      "+------------+----------------+--------------------+\n",
      "| Risk(good) | Gender(female) |             0.2202 |\n",
      "+------------+----------------+--------------------+\n",
      "| Risk(good) | Gender(male)   |             0.4820 |\n",
      "+------------+----------------+--------------------+\n"
     ]
    },
    {
     "name": "stderr",
     "output_type": "stream",
     "text": [
      "\n"
     ]
    }
   ],
   "source": [
    "print(infer.query(variables=[target, 'Gender'], joint= True))"
   ]
  },
  {
   "cell_type": "markdown",
   "metadata": {},
   "source": [
    "### Conditional distribution"
   ]
  },
  {
   "cell_type": "code",
   "execution_count": 23,
   "metadata": {},
   "outputs": [
    {
     "name": "stderr",
     "output_type": "stream",
     "text": [
      "Finding Elimination Order: : 100%|█████████████████████████████████████████████████████| 7/7 [00:00<00:00, 1389.83it/s]\n",
      "Eliminating: Housing: 100%|█████████████████████████████████████████████████████████████| 7/7 [00:00<00:00, 388.86it/s]\n",
      "Finding Elimination Order: : 100%|█████████████████████████████████████████████████████| 7/7 [00:00<00:00, 2329.43it/s]\n",
      "Eliminating: Housing: 100%|█████████████████████████████████████████████████████████████| 7/7 [00:00<00:00, 411.77it/s]"
     ]
    },
    {
     "name": "stdout",
     "output_type": "stream",
     "text": [
      "+------------+-------------+\n",
      "| Risk       |   phi(Risk) |\n",
      "+============+=============+\n",
      "| Risk(bad)  |      0.2981 |\n",
      "+------------+-------------+\n",
      "| Risk(good) |      0.7019 |\n",
      "+------------+-------------+\n",
      "+------------+-------------+\n",
      "| Risk       |   phi(Risk) |\n",
      "+============+=============+\n",
      "| Risk(bad)  |      0.2971 |\n",
      "+------------+-------------+\n",
      "| Risk(good) |      0.7029 |\n",
      "+------------+-------------+\n"
     ]
    },
    {
     "name": "stderr",
     "output_type": "stream",
     "text": [
      "\n"
     ]
    }
   ],
   "source": [
    "print(infer.query(variables=[target], evidence={'Gender': 'male'}))\n",
    "print(infer.query(variables=[target], evidence={'Gender': 'female'}))"
   ]
  },
  {
   "cell_type": "code",
   "execution_count": 24,
   "metadata": {},
   "outputs": [
    {
     "name": "stderr",
     "output_type": "stream",
     "text": [
      "Finding Elimination Order: : 100%|█████████████████████████████████████████████████████| 7/7 [00:00<00:00, 3501.92it/s]\n",
      "Eliminating: Housing: 100%|█████████████████████████████████████████████████████████████| 7/7 [00:00<00:00, 501.71it/s]"
     ]
    },
    {
     "name": "stdout",
     "output_type": "stream",
     "text": [
      "+----------------+---------------+\n",
      "| Gender         |   phi(Gender) |\n",
      "+================+===============+\n",
      "| Gender(female) |        0.3126 |\n",
      "+----------------+---------------+\n",
      "| Gender(male)   |        0.6874 |\n",
      "+----------------+---------------+"
     ]
    },
    {
     "name": "stderr",
     "output_type": "stream",
     "text": [
      "\n",
      "Finding Elimination Order: : 100%|█████████████████████████████████████████████████████| 7/7 [00:00<00:00, 2329.98it/s]\n",
      "Eliminating: Housing: 100%|█████████████████████████████████████████████████████████████| 7/7 [00:00<00:00, 437.47it/s]"
     ]
    },
    {
     "name": "stdout",
     "output_type": "stream",
     "text": [
      "\n",
      "+----------------+---------------+\n",
      "| Gender         |   phi(Gender) |\n",
      "+================+===============+\n",
      "| Gender(female) |        0.3136 |\n",
      "+----------------+---------------+\n",
      "| Gender(male)   |        0.6864 |\n",
      "+----------------+---------------+\n"
     ]
    },
    {
     "name": "stderr",
     "output_type": "stream",
     "text": [
      "\n"
     ]
    }
   ],
   "source": [
    "print(infer.query(variables=['Gender'], evidence={target: 'bad'}))\n",
    "print(infer.query(variables=['Gender'], evidence={target: 'good'}))"
   ]
  },
  {
   "cell_type": "markdown",
   "metadata": {},
   "source": [
    "### Given the knowledge of credit history of the borrower, what can we infer about the risk associated with the profile"
   ]
  },
  {
   "cell_type": "markdown",
   "metadata": {},
   "source": [
    "Improved credit history signals better credit worthiness"
   ]
  },
  {
   "cell_type": "code",
   "execution_count": 25,
   "metadata": {},
   "outputs": [
    {
     "name": "stderr",
     "output_type": "stream",
     "text": [
      "Finding Elimination Order: : 100%|█████████████████████████████████████████████████████| 7/7 [00:00<00:00, 6997.17it/s]\n",
      "Eliminating: Housing: 100%|█████████████████████████████████████████████████████████████| 7/7 [00:00<00:00, 500.11it/s]"
     ]
    },
    {
     "name": "stdout",
     "output_type": "stream",
     "text": [
      "Credit History: 0\n"
     ]
    },
    {
     "name": "stderr",
     "output_type": "stream",
     "text": [
      "\n",
      "Finding Elimination Order: : 100%|█████████████████████████████████████████████████████| 7/7 [00:00<00:00, 7002.18it/s]\n",
      "Eliminating: Housing: 100%|█████████████████████████████████████████████████████████████| 7/7 [00:00<00:00, 538.39it/s]\n",
      "Finding Elimination Order: : 100%|█████████████████████████████████████████████████████| 7/7 [00:00<00:00, 6992.17it/s]\n",
      "Eliminating: Housing: 100%|█████████████████████████████████████████████████████████████| 7/7 [00:00<00:00, 500.04it/s]\n",
      "Finding Elimination Order: : 100%|█████████████████████████████████████████████████████| 7/7 [00:00<00:00, 3504.43it/s]\n",
      "Eliminating: Housing: 100%|█████████████████████████████████████████████████████████████| 7/7 [00:00<00:00, 537.01it/s]\n",
      "Finding Elimination Order: : 100%|█████████████████████████████████████████████████████| 7/7 [00:00<00:00, 2327.40it/s]\n",
      "Eliminating: Housing: 100%|█████████████████████████████████████████████████████████████| 7/7 [00:00<00:00, 636.35it/s]"
     ]
    },
    {
     "name": "stdout",
     "output_type": "stream",
     "text": [
      "+------------+-------------+\n",
      "| Risk       |   phi(Risk) |\n",
      "+============+=============+\n",
      "| Risk(bad)  |      0.6486 |\n",
      "+------------+-------------+\n",
      "| Risk(good) |      0.3514 |\n",
      "+------------+-------------+\n",
      "Credit History: 1\n",
      "+------------+-------------+\n",
      "| Risk       |   phi(Risk) |\n",
      "+============+=============+\n",
      "| Risk(bad)  |      0.5238 |\n",
      "+------------+-------------+\n",
      "| Risk(good) |      0.4762 |\n",
      "+------------+-------------+\n",
      "Credit History: 2\n",
      "+------------+-------------+\n",
      "| Risk       |   phi(Risk) |\n",
      "+============+=============+\n",
      "| Risk(bad)  |      0.3192 |\n",
      "+------------+-------------+\n",
      "| Risk(good) |      0.6808 |\n",
      "+------------+-------------+\n",
      "Credit History: 3\n",
      "+------------+-------------+\n",
      "| Risk       |   phi(Risk) |\n",
      "+============+=============+\n",
      "| Risk(bad)  |      0.3165 |\n",
      "+------------+-------------+\n",
      "| Risk(good) |      0.6835 |\n",
      "+------------+-------------+\n",
      "Credit History: 4\n",
      "+------------+-------------+\n",
      "| Risk       |   phi(Risk) |\n",
      "+============+=============+\n",
      "| Risk(bad)  |      0.1710 |\n",
      "+------------+-------------+\n",
      "| Risk(good) |      0.8290 |\n",
      "+------------+-------------+\n"
     ]
    },
    {
     "name": "stderr",
     "output_type": "stream",
     "text": [
      "\n"
     ]
    }
   ],
   "source": [
    "for i in [0,1,2,3,4]:\n",
    "    print(\"Credit History:\", i)\n",
    "    print(infer.query(variables=[target], evidence = {'Credit History': i}))"
   ]
  },
  {
   "cell_type": "markdown",
   "metadata": {},
   "source": [
    "### Saving Accounts"
   ]
  },
  {
   "cell_type": "markdown",
   "metadata": {},
   "source": [
    "If saving accounts signify the richness quotient of the borrower, then as it goes up, the bad risk reduces. "
   ]
  },
  {
   "cell_type": "code",
   "execution_count": 26,
   "metadata": {},
   "outputs": [
    {
     "name": "stdout",
     "output_type": "stream",
     "text": [
      "little\n"
     ]
    },
    {
     "name": "stderr",
     "output_type": "stream",
     "text": [
      "Finding Elimination Order: : 100%|█████████████████████████████████████████████████████| 7/7 [00:00<00:00, 7000.51it/s]\n",
      "Eliminating: Housing: 100%|█████████████████████████████████████████████████████████████| 7/7 [00:00<00:00, 538.37it/s]\n",
      "Finding Elimination Order: : 100%|█████████████████████████████████████████████████████| 7/7 [00:00<00:00, 2336.29it/s]\n",
      "Eliminating: Housing: 100%|█████████████████████████████████████████████████████████████| 7/7 [00:00<00:00, 538.43it/s]\n",
      "Finding Elimination Order: : 100%|█████████████████████████████████████████████████████| 7/7 [00:00<00:00, 3520.40it/s]\n",
      "Eliminating: Duration:   0%|                                                                     | 0/7 [00:00<?, ?it/s]"
     ]
    },
    {
     "name": "stdout",
     "output_type": "stream",
     "text": [
      "+------------+-------------+\n",
      "| Risk       |   phi(Risk) |\n",
      "+============+=============+\n",
      "| Risk(bad)  |      0.3548 |\n",
      "+------------+-------------+\n",
      "| Risk(good) |      0.6452 |\n",
      "+------------+-------------+\n",
      "moderate\n",
      "+------------+-------------+\n",
      "| Risk       |   phi(Risk) |\n",
      "+============+=============+\n",
      "| Risk(bad)  |      0.3261 |\n",
      "+------------+-------------+\n",
      "| Risk(good) |      0.6739 |\n",
      "+------------+-------------+\n",
      "rich\n"
     ]
    },
    {
     "name": "stderr",
     "output_type": "stream",
     "text": [
      "Eliminating: Housing: 100%|█████████████████████████████████████████████████████████████| 7/7 [00:00<00:00, 499.97it/s]\n",
      "Finding Elimination Order: : 100%|█████████████████████████████████████████████████████| 7/7 [00:00<00:00, 3563.12it/s]\n",
      "Eliminating: Housing: 100%|█████████████████████████████████████████████████████████████| 7/7 [00:00<00:00, 499.90it/s]"
     ]
    },
    {
     "name": "stdout",
     "output_type": "stream",
     "text": [
      "+------------+-------------+\n",
      "| Risk       |   phi(Risk) |\n",
      "+============+=============+\n",
      "| Risk(bad)  |      0.1304 |\n",
      "+------------+-------------+\n",
      "| Risk(good) |      0.8696 |\n",
      "+------------+-------------+\n",
      "quite rich\n",
      "+------------+-------------+\n",
      "| Risk       |   phi(Risk) |\n",
      "+============+=============+\n",
      "| Risk(bad)  |      0.1273 |\n",
      "+------------+-------------+\n",
      "| Risk(good) |      0.8727 |\n",
      "+------------+-------------+\n"
     ]
    },
    {
     "name": "stderr",
     "output_type": "stream",
     "text": [
      "\n"
     ]
    }
   ],
   "source": [
    "feat = 'Saving accounts'\n",
    "list_range = ['little', 'moderate', 'rich', 'quite rich']\n",
    "\n",
    "for i in list_range:\n",
    "    print(i)\n",
    "    print(infer.query(variables=[target], evidence = {feat: i}))"
   ]
  },
  {
   "cell_type": "markdown",
   "metadata": {},
   "source": [
    "### Duration"
   ]
  },
  {
   "cell_type": "markdown",
   "metadata": {},
   "source": [
    "Loans with shorter duration are mostly repaid without default, the bad risk i.e. credit worthiness deteriorates as duration increases.\n",
    "Note that it justifies the intuition that the longer the period, it induces more volatility into the system, where volatility might be construed as more risk "
   ]
  },
  {
   "cell_type": "code",
   "execution_count": 27,
   "metadata": {},
   "outputs": [
    {
     "name": "stderr",
     "output_type": "stream",
     "text": [
      "Finding Elimination Order: : 100%|█████████████████████████████████████████████████████| 7/7 [00:00<00:00, 3504.85it/s]\n",
      "Eliminating: Housing: 100%|█████████████████████████████████████████████████████████████| 7/7 [00:00<00:00, 583.26it/s]\n",
      "Finding Elimination Order: : 100%|█████████████████████████████████████████████████████| 7/7 [00:00<00:00, 7000.51it/s]\n",
      "Eliminating: Housing: 100%|█████████████████████████████████████████████████████████████| 7/7 [00:00<00:00, 700.37it/s]\n"
     ]
    },
    {
     "name": "stdout",
     "output_type": "stream",
     "text": [
      "4 to 12\n",
      "+------------+-------------+\n",
      "| Risk       |   phi(Risk) |\n",
      "+============+=============+\n",
      "| Risk(bad)  |      0.2561 |\n",
      "+------------+-------------+\n",
      "| Risk(good) |      0.7439 |\n",
      "+------------+-------------+\n",
      "12 to 24\n",
      "+------------+-------------+\n",
      "| Risk       |   phi(Risk) |\n",
      "+============+=============+\n",
      "| Risk(bad)  |      0.4439 |\n",
      "+------------+-------------+\n",
      "| Risk(good) |      0.5561 |\n",
      "+------------+-------------+\n",
      "24 to 72\n"
     ]
    },
    {
     "name": "stderr",
     "output_type": "stream",
     "text": [
      "Finding Elimination Order: : 100%|█████████████████████████████████████████████████████| 7/7 [00:00<00:00, 7005.52it/s]\n",
      "Eliminating: Housing: 100%|█████████████████████████████████████████████████████████████| 7/7 [00:00<00:00, 777.83it/s]"
     ]
    },
    {
     "name": "stdout",
     "output_type": "stream",
     "text": [
      "+------------+-------------+\n",
      "| Risk       |   phi(Risk) |\n",
      "+============+=============+\n",
      "| Risk(bad)  |      0.4286 |\n",
      "+------------+-------------+\n",
      "| Risk(good) |      0.5714 |\n",
      "+------------+-------------+\n"
     ]
    },
    {
     "name": "stderr",
     "output_type": "stream",
     "text": [
      "\n"
     ]
    }
   ],
   "source": [
    "### Effect of Duration on 'Credit Risk'\n",
    "list_range = bin_duration\n",
    "for i in list_range:\n",
    "    print(i)\n",
    "    print(infer.query(variables=[target], evidence = {'Duration': i}))"
   ]
  },
  {
   "cell_type": "markdown",
   "metadata": {},
   "source": [
    "### Credit amount"
   ]
  },
  {
   "cell_type": "markdown",
   "metadata": {},
   "source": [
    "Bad risk is maximum for high amount of credits borrowed"
   ]
  },
  {
   "cell_type": "code",
   "execution_count": 28,
   "metadata": {},
   "outputs": [
    {
     "name": "stderr",
     "output_type": "stream",
     "text": [
      "Finding Elimination Order: : 100%|█████████████████████████████████████████████████████| 7/7 [00:00<00:00, 6998.84it/s]\n",
      "Eliminating: Housing: 100%|█████████████████████████████████████████████████████████████| 7/7 [00:00<00:00, 583.29it/s]\n",
      "Finding Elimination Order: : 100%|█████████████████████████████████████████████████████| 7/7 [00:00<00:00, 3494.01it/s]\n",
      "Eliminating: Housing: 100%|█████████████████████████████████████████████████████████████| 7/7 [00:00<00:00, 777.85it/s]"
     ]
    },
    {
     "name": "stdout",
     "output_type": "stream",
     "text": [
      "250 to 1554\n",
      "+------------+-------------+\n",
      "| Risk       |   phi(Risk) |\n",
      "+============+=============+\n",
      "| Risk(bad)  |      0.2842 |\n",
      "+------------+-------------+\n",
      "| Risk(good) |      0.7158 |\n",
      "+------------+-------------+\n",
      "1554 to 3368\n"
     ]
    },
    {
     "name": "stderr",
     "output_type": "stream",
     "text": [
      "\n",
      "Finding Elimination Order: : 100%|█████████████████████████████████████████████████████| 7/7 [00:00<00:00, 3505.27it/s]\n",
      "Eliminating: Housing: 100%|█████████████████████████████████████████████████████████████| 7/7 [00:00<00:00, 778.16it/s]\n"
     ]
    },
    {
     "name": "stdout",
     "output_type": "stream",
     "text": [
      "+------------+-------------+\n",
      "| Risk       |   phi(Risk) |\n",
      "+============+=============+\n",
      "| Risk(bad)  |      0.3849 |\n",
      "+------------+-------------+\n",
      "| Risk(good) |      0.6151 |\n",
      "+------------+-------------+\n",
      "3368 to 18424\n",
      "+------------+-------------+\n",
      "| Risk       |   phi(Risk) |\n",
      "+============+=============+\n",
      "| Risk(bad)  |      0.3921 |\n",
      "+------------+-------------+\n",
      "| Risk(good) |      0.6079 |\n",
      "+------------+-------------+\n"
     ]
    }
   ],
   "source": [
    "list_range = bin_credit_amount\n",
    "for i in list_range:\n",
    "    print(i)\n",
    "    print(infer.query(variables=[target], evidence = {'Credit amount': i}))"
   ]
  }
 ],
 "metadata": {
  "kernelspec": {
   "display_name": "Python 3",
   "language": "python",
   "name": "python3"
  },
  "language_info": {
   "codemirror_mode": {
    "name": "ipython",
    "version": 3
   },
   "file_extension": ".py",
   "mimetype": "text/x-python",
   "name": "python",
   "nbconvert_exporter": "python",
   "pygments_lexer": "ipython3",
   "version": "3.6.5"
  }
 },
 "nbformat": 4,
 "nbformat_minor": 2
}
